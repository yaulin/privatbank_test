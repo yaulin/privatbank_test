{
 "cells": [
  {
   "cell_type": "markdown",
   "metadata": {},
   "source": [
    "<h1>Test assignment Privatbank</h1>"
   ]
  },
  {
   "cell_type": "markdown",
   "metadata": {},
   "source": [
    "<h2>Yaroslav Aulin</h2>"
   ]
  },
  {
   "cell_type": "markdown",
   "metadata": {},
   "source": [
    "yaroslav.v.aulin@gmail.com"
   ]
  },
  {
   "cell_type": "code",
   "execution_count": 1,
   "metadata": {},
   "outputs": [],
   "source": [
    "# load pandas and libraries for plotting\n",
    "\n",
    "import pandas as pd\n",
    "import pylab as pl\n",
    "import numpy as np\n",
    "%matplotlib inline \n",
    "import matplotlib.pyplot as plt"
   ]
  },
  {
   "cell_type": "code",
   "execution_count": 2,
   "metadata": {},
   "outputs": [
    {
     "data": {
      "text/html": [
       "<div>\n",
       "<style scoped>\n",
       "    .dataframe tbody tr th:only-of-type {\n",
       "        vertical-align: middle;\n",
       "    }\n",
       "\n",
       "    .dataframe tbody tr th {\n",
       "        vertical-align: top;\n",
       "    }\n",
       "\n",
       "    .dataframe thead th {\n",
       "        text-align: right;\n",
       "    }\n",
       "</style>\n",
       "<table border=\"1\" class=\"dataframe\">\n",
       "  <thead>\n",
       "    <tr style=\"text-align: right;\">\n",
       "      <th></th>\n",
       "      <th>Unnamed: 0</th>\n",
       "      <th>num_1</th>\n",
       "      <th>num_2</th>\n",
       "      <th>num_3</th>\n",
       "      <th>num_4</th>\n",
       "      <th>num_5</th>\n",
       "      <th>num_6</th>\n",
       "      <th>num_7</th>\n",
       "      <th>cat_1</th>\n",
       "      <th>num_8</th>\n",
       "      <th>...</th>\n",
       "      <th>num_413</th>\n",
       "      <th>cat_132</th>\n",
       "      <th>cat_133</th>\n",
       "      <th>num_414</th>\n",
       "      <th>num_415</th>\n",
       "      <th>num_416</th>\n",
       "      <th>cat_134</th>\n",
       "      <th>cat_135</th>\n",
       "      <th>id</th>\n",
       "      <th>gb</th>\n",
       "    </tr>\n",
       "  </thead>\n",
       "  <tbody>\n",
       "    <tr>\n",
       "      <th>0</th>\n",
       "      <td>0</td>\n",
       "      <td>1377.3</td>\n",
       "      <td>3712.9</td>\n",
       "      <td>NaN</td>\n",
       "      <td>1303.0</td>\n",
       "      <td>2409.0</td>\n",
       "      <td>1281.7</td>\n",
       "      <td>43.0</td>\n",
       "      <td>1</td>\n",
       "      <td>195.0</td>\n",
       "      <td>...</td>\n",
       "      <td>11327.5</td>\n",
       "      <td>1</td>\n",
       "      <td>1</td>\n",
       "      <td>28162496.65</td>\n",
       "      <td>0.0</td>\n",
       "      <td>0.07</td>\n",
       "      <td>1</td>\n",
       "      <td>1</td>\n",
       "      <td>1</td>\n",
       "      <td>0</td>\n",
       "    </tr>\n",
       "    <tr>\n",
       "      <th>1</th>\n",
       "      <td>1</td>\n",
       "      <td>20.0</td>\n",
       "      <td>13.4</td>\n",
       "      <td>NaN</td>\n",
       "      <td>565.0</td>\n",
       "      <td>NaN</td>\n",
       "      <td>357.2</td>\n",
       "      <td>19.0</td>\n",
       "      <td>1</td>\n",
       "      <td>170.0</td>\n",
       "      <td>...</td>\n",
       "      <td>168.6</td>\n",
       "      <td>1</td>\n",
       "      <td>1</td>\n",
       "      <td>989383.82</td>\n",
       "      <td>0.0</td>\n",
       "      <td>0.56</td>\n",
       "      <td>2</td>\n",
       "      <td>1</td>\n",
       "      <td>2</td>\n",
       "      <td>0</td>\n",
       "    </tr>\n",
       "    <tr>\n",
       "      <th>2</th>\n",
       "      <td>4</td>\n",
       "      <td>150.6</td>\n",
       "      <td>1.8</td>\n",
       "      <td>NaN</td>\n",
       "      <td>2294.0</td>\n",
       "      <td>15.0</td>\n",
       "      <td>107.6</td>\n",
       "      <td>76.0</td>\n",
       "      <td>1</td>\n",
       "      <td>196.0</td>\n",
       "      <td>...</td>\n",
       "      <td>209.1</td>\n",
       "      <td>1</td>\n",
       "      <td>1</td>\n",
       "      <td>87444.51</td>\n",
       "      <td>0.0</td>\n",
       "      <td>0.01</td>\n",
       "      <td>3</td>\n",
       "      <td>1</td>\n",
       "      <td>3</td>\n",
       "      <td>0</td>\n",
       "    </tr>\n",
       "    <tr>\n",
       "      <th>3</th>\n",
       "      <td>5</td>\n",
       "      <td>11.4</td>\n",
       "      <td>178.0</td>\n",
       "      <td>NaN</td>\n",
       "      <td>1236.0</td>\n",
       "      <td>NaN</td>\n",
       "      <td>350.6</td>\n",
       "      <td>41.0</td>\n",
       "      <td>1</td>\n",
       "      <td>117.0</td>\n",
       "      <td>...</td>\n",
       "      <td>56.9</td>\n",
       "      <td>1</td>\n",
       "      <td>1</td>\n",
       "      <td>297608.00</td>\n",
       "      <td>0.0</td>\n",
       "      <td>0.08</td>\n",
       "      <td>4</td>\n",
       "      <td>1</td>\n",
       "      <td>4</td>\n",
       "      <td>0</td>\n",
       "    </tr>\n",
       "    <tr>\n",
       "      <th>4</th>\n",
       "      <td>6</td>\n",
       "      <td>5372.0</td>\n",
       "      <td>3386.0</td>\n",
       "      <td>NaN</td>\n",
       "      <td>1340.0</td>\n",
       "      <td>NaN</td>\n",
       "      <td>14.0</td>\n",
       "      <td>45.0</td>\n",
       "      <td>1</td>\n",
       "      <td>9.0</td>\n",
       "      <td>...</td>\n",
       "      <td>31.0</td>\n",
       "      <td>1</td>\n",
       "      <td>1</td>\n",
       "      <td>6614247.89</td>\n",
       "      <td>0.0</td>\n",
       "      <td>0.20</td>\n",
       "      <td>1</td>\n",
       "      <td>1</td>\n",
       "      <td>5</td>\n",
       "      <td>0</td>\n",
       "    </tr>\n",
       "  </tbody>\n",
       "</table>\n",
       "<p>5 rows × 554 columns</p>\n",
       "</div>"
      ],
      "text/plain": [
       "   Unnamed: 0   num_1   num_2  num_3   num_4   num_5   num_6  num_7  cat_1  \\\n",
       "0           0  1377.3  3712.9    NaN  1303.0  2409.0  1281.7   43.0      1   \n",
       "1           1    20.0    13.4    NaN   565.0     NaN   357.2   19.0      1   \n",
       "2           4   150.6     1.8    NaN  2294.0    15.0   107.6   76.0      1   \n",
       "3           5    11.4   178.0    NaN  1236.0     NaN   350.6   41.0      1   \n",
       "4           6  5372.0  3386.0    NaN  1340.0     NaN    14.0   45.0      1   \n",
       "\n",
       "   num_8  ...  num_413  cat_132  cat_133      num_414  num_415  num_416  \\\n",
       "0  195.0  ...  11327.5        1        1  28162496.65      0.0     0.07   \n",
       "1  170.0  ...    168.6        1        1    989383.82      0.0     0.56   \n",
       "2  196.0  ...    209.1        1        1     87444.51      0.0     0.01   \n",
       "3  117.0  ...     56.9        1        1    297608.00      0.0     0.08   \n",
       "4    9.0  ...     31.0        1        1   6614247.89      0.0     0.20   \n",
       "\n",
       "   cat_134  cat_135  id  gb  \n",
       "0        1        1   1   0  \n",
       "1        2        1   2   0  \n",
       "2        3        1   3   0  \n",
       "3        4        1   4   0  \n",
       "4        1        1   5   0  \n",
       "\n",
       "[5 rows x 554 columns]"
      ]
     },
     "execution_count": 2,
     "metadata": {},
     "output_type": "execute_result"
    }
   ],
   "source": [
    "# read train data into pandas dataframe and display header\n",
    "df = pd.read_csv(\"train_df.csv\",sep=\"\\t\")\n",
    "df.head()"
   ]
  },
  {
   "cell_type": "code",
   "execution_count": 3,
   "metadata": {},
   "outputs": [
    {
     "data": {
      "text/html": [
       "<div>\n",
       "<style scoped>\n",
       "    .dataframe tbody tr th:only-of-type {\n",
       "        vertical-align: middle;\n",
       "    }\n",
       "\n",
       "    .dataframe tbody tr th {\n",
       "        vertical-align: top;\n",
       "    }\n",
       "\n",
       "    .dataframe thead th {\n",
       "        text-align: right;\n",
       "    }\n",
       "</style>\n",
       "<table border=\"1\" class=\"dataframe\">\n",
       "  <thead>\n",
       "    <tr style=\"text-align: right;\">\n",
       "      <th></th>\n",
       "      <th>Unnamed: 0</th>\n",
       "      <th>num_1</th>\n",
       "      <th>num_2</th>\n",
       "      <th>num_3</th>\n",
       "      <th>num_4</th>\n",
       "      <th>num_5</th>\n",
       "      <th>num_6</th>\n",
       "      <th>num_7</th>\n",
       "      <th>cat_1</th>\n",
       "      <th>num_8</th>\n",
       "      <th>...</th>\n",
       "      <th>num_412</th>\n",
       "      <th>num_413</th>\n",
       "      <th>cat_132</th>\n",
       "      <th>cat_133</th>\n",
       "      <th>num_414</th>\n",
       "      <th>num_415</th>\n",
       "      <th>num_416</th>\n",
       "      <th>cat_134</th>\n",
       "      <th>cat_135</th>\n",
       "      <th>id</th>\n",
       "    </tr>\n",
       "  </thead>\n",
       "  <tbody>\n",
       "    <tr>\n",
       "      <th>0</th>\n",
       "      <td>61113</td>\n",
       "      <td>133.6</td>\n",
       "      <td>713.7</td>\n",
       "      <td>NaN</td>\n",
       "      <td>997.0</td>\n",
       "      <td>NaN</td>\n",
       "      <td>1779.5</td>\n",
       "      <td>33.0</td>\n",
       "      <td>1</td>\n",
       "      <td>84.0</td>\n",
       "      <td>...</td>\n",
       "      <td>1562.1</td>\n",
       "      <td>1562.1</td>\n",
       "      <td>1</td>\n",
       "      <td>1</td>\n",
       "      <td>5074118.50</td>\n",
       "      <td>0.00</td>\n",
       "      <td>0.08</td>\n",
       "      <td>2</td>\n",
       "      <td>1</td>\n",
       "      <td>5244</td>\n",
       "    </tr>\n",
       "    <tr>\n",
       "      <th>1</th>\n",
       "      <td>61114</td>\n",
       "      <td>2913.9</td>\n",
       "      <td>1160.4</td>\n",
       "      <td>NaN</td>\n",
       "      <td>2112.0</td>\n",
       "      <td>593.3</td>\n",
       "      <td>970.6</td>\n",
       "      <td>70.0</td>\n",
       "      <td>1</td>\n",
       "      <td>72.0</td>\n",
       "      <td>...</td>\n",
       "      <td>5540.4</td>\n",
       "      <td>5540.4</td>\n",
       "      <td>1</td>\n",
       "      <td>2</td>\n",
       "      <td>5438812.01</td>\n",
       "      <td>0.00</td>\n",
       "      <td>0.08</td>\n",
       "      <td>4</td>\n",
       "      <td>1</td>\n",
       "      <td>5245</td>\n",
       "    </tr>\n",
       "    <tr>\n",
       "      <th>2</th>\n",
       "      <td>61124</td>\n",
       "      <td>1561.6</td>\n",
       "      <td>544.9</td>\n",
       "      <td>NaN</td>\n",
       "      <td>1160.0</td>\n",
       "      <td>NaN</td>\n",
       "      <td>1779.7</td>\n",
       "      <td>39.0</td>\n",
       "      <td>1</td>\n",
       "      <td>91.0</td>\n",
       "      <td>...</td>\n",
       "      <td>2463.3</td>\n",
       "      <td>2463.3</td>\n",
       "      <td>1</td>\n",
       "      <td>1</td>\n",
       "      <td>3646084.80</td>\n",
       "      <td>282.35</td>\n",
       "      <td>0.00</td>\n",
       "      <td>5</td>\n",
       "      <td>1</td>\n",
       "      <td>5246</td>\n",
       "    </tr>\n",
       "    <tr>\n",
       "      <th>3</th>\n",
       "      <td>61126</td>\n",
       "      <td>916.0</td>\n",
       "      <td>26767.0</td>\n",
       "      <td>NaN</td>\n",
       "      <td>199.0</td>\n",
       "      <td>NaN</td>\n",
       "      <td>626.0</td>\n",
       "      <td>7.0</td>\n",
       "      <td>1</td>\n",
       "      <td>209.0</td>\n",
       "      <td>...</td>\n",
       "      <td>1023.0</td>\n",
       "      <td>39.0</td>\n",
       "      <td>1</td>\n",
       "      <td>1</td>\n",
       "      <td>1070363.11</td>\n",
       "      <td>155.07</td>\n",
       "      <td>0.15</td>\n",
       "      <td>8</td>\n",
       "      <td>1</td>\n",
       "      <td>5247</td>\n",
       "    </tr>\n",
       "    <tr>\n",
       "      <th>4</th>\n",
       "      <td>61128</td>\n",
       "      <td>NaN</td>\n",
       "      <td>15.4</td>\n",
       "      <td>NaN</td>\n",
       "      <td>2279.0</td>\n",
       "      <td>1.5</td>\n",
       "      <td>289.1</td>\n",
       "      <td>76.0</td>\n",
       "      <td>1</td>\n",
       "      <td>84.0</td>\n",
       "      <td>...</td>\n",
       "      <td>56.7</td>\n",
       "      <td>56.7</td>\n",
       "      <td>1</td>\n",
       "      <td>1</td>\n",
       "      <td>370808.45</td>\n",
       "      <td>0.00</td>\n",
       "      <td>0.00</td>\n",
       "      <td>3</td>\n",
       "      <td>1</td>\n",
       "      <td>5248</td>\n",
       "    </tr>\n",
       "  </tbody>\n",
       "</table>\n",
       "<p>5 rows × 553 columns</p>\n",
       "</div>"
      ],
      "text/plain": [
       "   Unnamed: 0   num_1    num_2  num_3   num_4  num_5   num_6  num_7  cat_1  \\\n",
       "0       61113   133.6    713.7    NaN   997.0    NaN  1779.5   33.0      1   \n",
       "1       61114  2913.9   1160.4    NaN  2112.0  593.3   970.6   70.0      1   \n",
       "2       61124  1561.6    544.9    NaN  1160.0    NaN  1779.7   39.0      1   \n",
       "3       61126   916.0  26767.0    NaN   199.0    NaN   626.0    7.0      1   \n",
       "4       61128     NaN     15.4    NaN  2279.0    1.5   289.1   76.0      1   \n",
       "\n",
       "   num_8  ...  num_412  num_413  cat_132  cat_133     num_414  num_415  \\\n",
       "0   84.0  ...   1562.1   1562.1        1        1  5074118.50     0.00   \n",
       "1   72.0  ...   5540.4   5540.4        1        2  5438812.01     0.00   \n",
       "2   91.0  ...   2463.3   2463.3        1        1  3646084.80   282.35   \n",
       "3  209.0  ...   1023.0     39.0        1        1  1070363.11   155.07   \n",
       "4   84.0  ...     56.7     56.7        1        1   370808.45     0.00   \n",
       "\n",
       "   num_416  cat_134  cat_135    id  \n",
       "0     0.08        2        1  5244  \n",
       "1     0.08        4        1  5245  \n",
       "2     0.00        5        1  5246  \n",
       "3     0.15        8        1  5247  \n",
       "4     0.00        3        1  5248  \n",
       "\n",
       "[5 rows x 553 columns]"
      ]
     },
     "execution_count": 3,
     "metadata": {},
     "output_type": "execute_result"
    }
   ],
   "source": [
    "# read delay data into pandas dataframe and display header\n",
    "df_delay = pd.read_csv(\"delay_df.csv\",sep=\"\\t\")\n",
    "df_delay.head()"
   ]
  },
  {
   "cell_type": "code",
   "execution_count": 4,
   "metadata": {},
   "outputs": [
    {
     "data": {
      "text/plain": [
       "(26824, 554)"
      ]
     },
     "execution_count": 4,
     "metadata": {},
     "output_type": "execute_result"
    }
   ],
   "source": [
    "df.shape"
   ]
  },
  {
   "cell_type": "code",
   "execution_count": 5,
   "metadata": {},
   "outputs": [
    {
     "data": {
      "text/plain": [
       "(9922, 553)"
      ]
     },
     "execution_count": 5,
     "metadata": {},
     "output_type": "execute_result"
    }
   ],
   "source": [
    "df_delay.shape"
   ]
  },
  {
   "cell_type": "code",
   "execution_count": 6,
   "metadata": {},
   "outputs": [],
   "source": [
    "dfnull=df.isnull().sum()"
   ]
  },
  {
   "cell_type": "code",
   "execution_count": 7,
   "metadata": {},
   "outputs": [
    {
     "name": "stdout",
     "output_type": "stream",
     "text": [
      "num_1 3796\n",
      "num_2 3871\n",
      "num_3 26761\n",
      "num_4 8\n",
      "num_5 9615\n",
      "num_7 8\n",
      "num_8 332\n",
      "num_9 10460\n",
      "num_10 5638\n",
      "num_11 26788\n",
      "num_12 19008\n",
      "num_13 8\n",
      "num_14 964\n",
      "num_15 8\n",
      "num_16 15294\n",
      "num_17 16474\n",
      "num_18 26289\n",
      "num_20 26379\n",
      "num_21 26762\n",
      "num_22 26823\n",
      "num_23 26824\n",
      "num_24 26823\n",
      "num_25 26025\n",
      "num_26 8\n",
      "num_27 813\n",
      "num_29 8\n",
      "num_30 8\n",
      "num_31 20968\n",
      "num_32 8\n",
      "num_34 19991\n",
      "num_35 24365\n",
      "num_36 22134\n",
      "num_37 24429\n",
      "num_38 3614\n",
      "num_39 22181\n",
      "num_40 786\n",
      "num_41 8\n",
      "num_42 24297\n",
      "num_43 138\n",
      "num_44 26812\n",
      "num_45 8\n",
      "num_46 26592\n",
      "num_47 26104\n",
      "num_48 26816\n",
      "num_49 26647\n",
      "num_51 26731\n",
      "num_52 332\n",
      "num_53 8\n",
      "num_54 10519\n",
      "num_55 34\n",
      "num_56 26566\n",
      "num_57 8\n",
      "num_58 8\n",
      "num_59 17\n",
      "num_60 333\n",
      "num_61 26377\n",
      "num_62 8\n",
      "num_63 25119\n",
      "num_65 25684\n",
      "num_66 26824\n",
      "num_67 8\n",
      "num_73 26379\n",
      "num_74 9979\n",
      "num_75 8\n",
      "num_76 17014\n",
      "num_77 83\n",
      "num_78 22616\n",
      "num_79 785\n",
      "num_80 1754\n",
      "num_81 1747\n",
      "num_82 26358\n",
      "num_84 333\n",
      "num_85 14750\n",
      "num_86 26820\n",
      "num_88 8\n",
      "num_89 26673\n",
      "num_90 26675\n",
      "num_91 26714\n",
      "num_93 23841\n",
      "num_94 819\n",
      "num_95 13\n",
      "num_96 25795\n",
      "num_97 13\n",
      "num_98 16299\n",
      "num_99 26637\n",
      "num_100 23767\n",
      "num_101 26807\n",
      "num_102 332\n",
      "num_103 26699\n",
      "num_104 8002\n",
      "num_105 8\n",
      "num_106 26375\n",
      "num_107 8\n",
      "num_108 26642\n",
      "num_109 26566\n",
      "num_112 8\n",
      "num_115 8\n",
      "num_116 25119\n",
      "num_118 25186\n",
      "num_119 8\n",
      "num_120 332\n",
      "num_121 26714\n",
      "num_122 8\n",
      "num_123 8\n",
      "num_124 140\n",
      "num_125 26816\n",
      "num_126 26623\n",
      "num_127 26155\n",
      "num_129 332\n",
      "num_130 8\n",
      "num_131 26608\n",
      "num_132 9\n",
      "num_133 8\n",
      "num_134 9\n",
      "num_135 26639\n",
      "num_136 4804\n",
      "num_137 5007\n",
      "num_138 26761\n",
      "num_139 15\n",
      "num_140 26620\n",
      "num_141 4045\n",
      "num_142 26642\n",
      "num_143 26635\n",
      "num_144 8\n",
      "num_145 8\n",
      "num_146 25119\n",
      "num_147 2341\n",
      "num_148 332\n",
      "num_149 23767\n",
      "num_150 26824\n",
      "num_151 2611\n",
      "num_152 26824\n",
      "num_153 19991\n",
      "num_154 737\n",
      "num_155 7109\n",
      "num_156 26818\n",
      "num_157 26814\n",
      "num_158 8\n",
      "num_159 8\n",
      "num_160 16947\n",
      "num_162 8\n",
      "num_163 26212\n",
      "num_164 138\n",
      "num_166 26711\n",
      "num_167 8\n",
      "num_168 138\n",
      "num_169 138\n",
      "num_170 16629\n",
      "num_171 26776\n",
      "num_172 332\n",
      "num_173 83\n",
      "num_177 11837\n",
      "num_182 25119\n",
      "num_184 8\n",
      "num_185 886\n",
      "num_186 855\n",
      "num_187 886\n",
      "num_188 8\n",
      "num_189 26797\n",
      "num_190 26810\n",
      "num_191 8\n",
      "num_192 17498\n",
      "num_193 7391\n",
      "num_194 8\n",
      "num_195 26608\n",
      "num_196 883\n",
      "num_197 8\n",
      "num_198 26787\n",
      "num_199 22474\n",
      "num_200 8\n",
      "num_201 8\n",
      "num_202 8\n",
      "num_203 8\n",
      "num_204 18288\n",
      "num_205 8\n",
      "num_206 13\n",
      "num_207 26025\n",
      "num_208 24297\n",
      "num_210 26809\n",
      "num_211 8\n",
      "num_212 8\n",
      "num_213 11\n",
      "num_214 332\n",
      "num_215 26379\n",
      "num_216 8\n",
      "num_217 26762\n",
      "num_218 138\n",
      "num_220 8\n",
      "num_221 20360\n",
      "num_222 26620\n",
      "num_223 26703\n",
      "num_224 26409\n",
      "num_225 8\n",
      "num_226 20740\n",
      "num_227 25082\n",
      "num_228 8\n",
      "num_229 16922\n",
      "num_230 11\n",
      "num_231 1123\n",
      "num_232 332\n",
      "num_233 8\n",
      "num_234 333\n",
      "num_235 333\n",
      "num_236 24947\n",
      "num_237 4343\n",
      "num_239 855\n",
      "num_240 8\n",
      "num_241 26269\n",
      "num_242 26824\n",
      "num_243 26320\n",
      "num_244 831\n",
      "num_245 22728\n",
      "num_247 25253\n",
      "num_248 26797\n",
      "num_249 26116\n",
      "num_250 26824\n",
      "num_251 22039\n",
      "num_252 8\n",
      "num_253 26739\n",
      "num_254 26418\n",
      "num_255 5113\n",
      "num_256 26814\n",
      "num_257 26797\n",
      "num_258 26824\n",
      "num_259 8\n",
      "num_260 3507\n",
      "num_261 26400\n",
      "num_262 12988\n",
      "num_263 18\n",
      "num_266 26824\n",
      "num_271 26789\n",
      "num_272 13577\n",
      "num_273 25119\n",
      "num_274 26418\n",
      "num_275 8\n",
      "num_276 138\n",
      "num_277 8\n",
      "num_278 21679\n",
      "num_279 26134\n",
      "num_280 25536\n",
      "num_281 26823\n",
      "num_282 3856\n",
      "num_286 25736\n",
      "num_289 5036\n",
      "num_291 23110\n",
      "num_292 8\n",
      "num_293 26819\n",
      "num_295 25769\n",
      "num_296 1409\n",
      "num_297 25418\n",
      "num_298 8\n",
      "num_299 1409\n",
      "num_300 26548\n",
      "num_301 332\n",
      "num_302 24860\n",
      "num_303 3415\n",
      "num_304 8\n",
      "num_308 26778\n",
      "num_310 26812\n",
      "num_311 6\n",
      "num_315 6392\n",
      "num_316 25771\n",
      "num_317 2331\n",
      "num_319 11\n",
      "num_320 8\n",
      "num_321 8\n",
      "num_322 26762\n",
      "num_323 26158\n",
      "num_324 26379\n",
      "num_325 26822\n",
      "num_326 26637\n",
      "num_327 3242\n",
      "num_328 26603\n",
      "num_329 26531\n",
      "num_332 5590\n",
      "num_333 22616\n",
      "num_334 26409\n",
      "num_335 26735\n",
      "num_336 26782\n",
      "num_337 26522\n",
      "num_339 5446\n",
      "num_340 9\n",
      "num_341 8\n",
      "num_342 26824\n",
      "num_343 22474\n",
      "num_344 81\n",
      "num_345 8\n",
      "num_346 921\n",
      "num_347 21\n",
      "num_348 26696\n",
      "num_349 26814\n",
      "num_350 8\n",
      "num_351 85\n",
      "num_354 8\n",
      "num_356 14449\n",
      "num_361 8\n",
      "num_362 26686\n",
      "num_363 26654\n",
      "num_365 26824\n",
      "num_366 8\n",
      "num_367 11\n",
      "num_368 26375\n",
      "num_369 25700\n",
      "num_370 8\n",
      "num_372 8\n",
      "num_373 8\n",
      "num_374 26418\n",
      "num_375 26824\n",
      "num_376 26327\n",
      "num_377 25119\n",
      "num_378 819\n",
      "num_383 26822\n",
      "num_386 26810\n",
      "num_387 11\n",
      "num_388 23762\n",
      "num_389 1865\n",
      "num_390 25666\n",
      "num_391 25666\n",
      "num_392 26824\n",
      "num_393 11\n",
      "num_394 25163\n",
      "num_395 10\n",
      "num_396 6005\n",
      "num_397 26813\n",
      "num_398 8495\n",
      "num_399 26608\n",
      "num_400 1959\n",
      "num_401 26663\n",
      "num_402 332\n",
      "num_403 26668\n",
      "num_407 3438\n",
      "num_414 8\n",
      "num_415 8\n",
      "num_416 8\n"
     ]
    }
   ],
   "source": [
    "# print variables with missing values\n",
    "for i in range(0,len(dfnull)):\n",
    "    if(dfnull[i]!=0):\n",
    "        print(dfnull.index[i],dfnull[i])"
   ]
  },
  {
   "cell_type": "code",
   "execution_count": 8,
   "metadata": {},
   "outputs": [
    {
     "name": "stdout",
     "output_type": "stream",
     "text": [
      "num_23 26824\n",
      "num_66 26824\n",
      "num_150 26824\n",
      "num_152 26824\n",
      "num_242 26824\n",
      "num_250 26824\n",
      "num_258 26824\n",
      "num_266 26824\n",
      "num_342 26824\n",
      "num_365 26824\n",
      "num_375 26824\n",
      "num_392 26824\n",
      "['num_23', 'num_66', 'num_150', 'num_152', 'num_242', 'num_250', 'num_258', 'num_266', 'num_342', 'num_365', 'num_375', 'num_392']\n",
      "12\n"
     ]
    }
   ],
   "source": [
    "# print columns with all missing values\n",
    "drop_array=[]\n",
    "for i in range(0,len(dfnull)):\n",
    "    if(dfnull[i]==df.shape[0]):\n",
    "        print(dfnull.index[i],dfnull[i])\n",
    "        drop_array.append(dfnull.index[i])\n",
    "print(drop_array)\n",
    "print(len(drop_array))"
   ]
  },
  {
   "cell_type": "code",
   "execution_count": 9,
   "metadata": {},
   "outputs": [],
   "source": [
    "# drop columns with all missing values\n",
    "\n",
    "df.drop(drop_array,axis='columns',inplace=True)"
   ]
  },
  {
   "cell_type": "code",
   "execution_count": 10,
   "metadata": {},
   "outputs": [
    {
     "data": {
      "text/plain": [
       "(26824, 542)"
      ]
     },
     "execution_count": 10,
     "metadata": {},
     "output_type": "execute_result"
    }
   ],
   "source": [
    "df.shape"
   ]
  },
  {
   "cell_type": "code",
   "execution_count": 11,
   "metadata": {},
   "outputs": [],
   "source": [
    "# drop same columns in df_delay\n",
    "df_delay.drop(drop_array,axis='columns',inplace=True)"
   ]
  },
  {
   "cell_type": "code",
   "execution_count": 12,
   "metadata": {},
   "outputs": [
    {
     "data": {
      "text/plain": [
       "(9922, 541)"
      ]
     },
     "execution_count": 12,
     "metadata": {},
     "output_type": "execute_result"
    }
   ],
   "source": [
    "df_delay.shape"
   ]
  },
  {
   "cell_type": "code",
   "execution_count": 13,
   "metadata": {},
   "outputs": [],
   "source": [
    "df_id=df['id']"
   ]
  },
  {
   "cell_type": "code",
   "execution_count": 14,
   "metadata": {},
   "outputs": [],
   "source": [
    "df_delay_id=df_delay['id']"
   ]
  },
  {
   "cell_type": "code",
   "execution_count": 15,
   "metadata": {},
   "outputs": [],
   "source": [
    "# drop id column\n",
    "df.drop(['id'],axis='columns',inplace=True)\n",
    "df_delay.drop(['id'],axis='columns',inplace=True)"
   ]
  },
  {
   "cell_type": "code",
   "execution_count": 16,
   "metadata": {},
   "outputs": [],
   "source": [
    "# define y\n",
    "\n",
    "y=np.asarray(df['gb'])\n"
   ]
  },
  {
   "cell_type": "code",
   "execution_count": 17,
   "metadata": {},
   "outputs": [],
   "source": [
    "# drop gb in df\n",
    "\n",
    "df.drop(['gb'],axis='columns',inplace=True)\n",
    "\n"
   ]
  },
  {
   "cell_type": "code",
   "execution_count": 18,
   "metadata": {},
   "outputs": [
    {
     "data": {
      "text/plain": [
       "(26824, 540)"
      ]
     },
     "execution_count": 18,
     "metadata": {},
     "output_type": "execute_result"
    }
   ],
   "source": [
    "df.shape"
   ]
  },
  {
   "cell_type": "code",
   "execution_count": 19,
   "metadata": {},
   "outputs": [
    {
     "data": {
      "text/plain": [
       "(9922, 540)"
      ]
     },
     "execution_count": 19,
     "metadata": {},
     "output_type": "execute_result"
    }
   ],
   "source": [
    "df_delay.shape"
   ]
  },
  {
   "cell_type": "code",
   "execution_count": 20,
   "metadata": {},
   "outputs": [],
   "source": [
    "# only numerical variables with missing values\n",
    "# use mean imputer\n",
    "\n",
    "from sklearn.impute import SimpleImputer\n",
    "\n"
   ]
  },
  {
   "cell_type": "code",
   "execution_count": 21,
   "metadata": {},
   "outputs": [],
   "source": [
    "imputer = SimpleImputer(missing_values=np.nan, strategy='mean')"
   ]
  },
  {
   "cell_type": "code",
   "execution_count": 22,
   "metadata": {},
   "outputs": [],
   "source": [
    "imputer.fit(df)\n",
    "imp_arr=imputer.transform(df)"
   ]
  },
  {
   "cell_type": "code",
   "execution_count": 23,
   "metadata": {},
   "outputs": [],
   "source": [
    "df[:]=imp_arr"
   ]
  },
  {
   "cell_type": "code",
   "execution_count": 24,
   "metadata": {},
   "outputs": [
    {
     "data": {
      "text/html": [
       "<div>\n",
       "<style scoped>\n",
       "    .dataframe tbody tr th:only-of-type {\n",
       "        vertical-align: middle;\n",
       "    }\n",
       "\n",
       "    .dataframe tbody tr th {\n",
       "        vertical-align: top;\n",
       "    }\n",
       "\n",
       "    .dataframe thead th {\n",
       "        text-align: right;\n",
       "    }\n",
       "</style>\n",
       "<table border=\"1\" class=\"dataframe\">\n",
       "  <thead>\n",
       "    <tr style=\"text-align: right;\">\n",
       "      <th></th>\n",
       "      <th>Unnamed: 0</th>\n",
       "      <th>num_1</th>\n",
       "      <th>num_2</th>\n",
       "      <th>num_3</th>\n",
       "      <th>num_4</th>\n",
       "      <th>num_5</th>\n",
       "      <th>num_6</th>\n",
       "      <th>num_7</th>\n",
       "      <th>cat_1</th>\n",
       "      <th>num_8</th>\n",
       "      <th>...</th>\n",
       "      <th>num_411</th>\n",
       "      <th>num_412</th>\n",
       "      <th>num_413</th>\n",
       "      <th>cat_132</th>\n",
       "      <th>cat_133</th>\n",
       "      <th>num_414</th>\n",
       "      <th>num_415</th>\n",
       "      <th>num_416</th>\n",
       "      <th>cat_134</th>\n",
       "      <th>cat_135</th>\n",
       "    </tr>\n",
       "  </thead>\n",
       "  <tbody>\n",
       "    <tr>\n",
       "      <th>0</th>\n",
       "      <td>0.0</td>\n",
       "      <td>1377.3</td>\n",
       "      <td>3712.9</td>\n",
       "      <td>10681.549206</td>\n",
       "      <td>1303.0</td>\n",
       "      <td>2409.00000</td>\n",
       "      <td>1281.7</td>\n",
       "      <td>43.0</td>\n",
       "      <td>1.0</td>\n",
       "      <td>195.0</td>\n",
       "      <td>...</td>\n",
       "      <td>46913.2</td>\n",
       "      <td>11327.5</td>\n",
       "      <td>11327.5</td>\n",
       "      <td>1.0</td>\n",
       "      <td>1.0</td>\n",
       "      <td>28162496.65</td>\n",
       "      <td>0.0</td>\n",
       "      <td>0.07</td>\n",
       "      <td>1.0</td>\n",
       "      <td>1.0</td>\n",
       "    </tr>\n",
       "    <tr>\n",
       "      <th>1</th>\n",
       "      <td>1.0</td>\n",
       "      <td>20.0</td>\n",
       "      <td>13.4</td>\n",
       "      <td>10681.549206</td>\n",
       "      <td>565.0</td>\n",
       "      <td>1811.27911</td>\n",
       "      <td>357.2</td>\n",
       "      <td>19.0</td>\n",
       "      <td>1.0</td>\n",
       "      <td>170.0</td>\n",
       "      <td>...</td>\n",
       "      <td>1343.5</td>\n",
       "      <td>168.6</td>\n",
       "      <td>168.6</td>\n",
       "      <td>1.0</td>\n",
       "      <td>1.0</td>\n",
       "      <td>989383.82</td>\n",
       "      <td>0.0</td>\n",
       "      <td>0.56</td>\n",
       "      <td>2.0</td>\n",
       "      <td>1.0</td>\n",
       "    </tr>\n",
       "    <tr>\n",
       "      <th>2</th>\n",
       "      <td>4.0</td>\n",
       "      <td>150.6</td>\n",
       "      <td>1.8</td>\n",
       "      <td>10681.549206</td>\n",
       "      <td>2294.0</td>\n",
       "      <td>15.00000</td>\n",
       "      <td>107.6</td>\n",
       "      <td>76.0</td>\n",
       "      <td>1.0</td>\n",
       "      <td>196.0</td>\n",
       "      <td>...</td>\n",
       "      <td>268.9</td>\n",
       "      <td>209.1</td>\n",
       "      <td>209.1</td>\n",
       "      <td>1.0</td>\n",
       "      <td>1.0</td>\n",
       "      <td>87444.51</td>\n",
       "      <td>0.0</td>\n",
       "      <td>0.01</td>\n",
       "      <td>3.0</td>\n",
       "      <td>1.0</td>\n",
       "    </tr>\n",
       "    <tr>\n",
       "      <th>3</th>\n",
       "      <td>5.0</td>\n",
       "      <td>11.4</td>\n",
       "      <td>178.0</td>\n",
       "      <td>10681.549206</td>\n",
       "      <td>1236.0</td>\n",
       "      <td>1811.27911</td>\n",
       "      <td>350.6</td>\n",
       "      <td>41.0</td>\n",
       "      <td>1.0</td>\n",
       "      <td>117.0</td>\n",
       "      <td>...</td>\n",
       "      <td>1106.5</td>\n",
       "      <td>56.9</td>\n",
       "      <td>56.9</td>\n",
       "      <td>1.0</td>\n",
       "      <td>1.0</td>\n",
       "      <td>297608.00</td>\n",
       "      <td>0.0</td>\n",
       "      <td>0.08</td>\n",
       "      <td>4.0</td>\n",
       "      <td>1.0</td>\n",
       "    </tr>\n",
       "    <tr>\n",
       "      <th>4</th>\n",
       "      <td>6.0</td>\n",
       "      <td>5372.0</td>\n",
       "      <td>3386.0</td>\n",
       "      <td>10681.549206</td>\n",
       "      <td>1340.0</td>\n",
       "      <td>1811.27911</td>\n",
       "      <td>14.0</td>\n",
       "      <td>45.0</td>\n",
       "      <td>1.0</td>\n",
       "      <td>9.0</td>\n",
       "      <td>...</td>\n",
       "      <td>5396.0</td>\n",
       "      <td>60925.0</td>\n",
       "      <td>31.0</td>\n",
       "      <td>1.0</td>\n",
       "      <td>1.0</td>\n",
       "      <td>6614247.89</td>\n",
       "      <td>0.0</td>\n",
       "      <td>0.20</td>\n",
       "      <td>1.0</td>\n",
       "      <td>1.0</td>\n",
       "    </tr>\n",
       "  </tbody>\n",
       "</table>\n",
       "<p>5 rows × 540 columns</p>\n",
       "</div>"
      ],
      "text/plain": [
       "   Unnamed: 0   num_1   num_2         num_3   num_4       num_5   num_6  \\\n",
       "0         0.0  1377.3  3712.9  10681.549206  1303.0  2409.00000  1281.7   \n",
       "1         1.0    20.0    13.4  10681.549206   565.0  1811.27911   357.2   \n",
       "2         4.0   150.6     1.8  10681.549206  2294.0    15.00000   107.6   \n",
       "3         5.0    11.4   178.0  10681.549206  1236.0  1811.27911   350.6   \n",
       "4         6.0  5372.0  3386.0  10681.549206  1340.0  1811.27911    14.0   \n",
       "\n",
       "   num_7  cat_1  num_8  ...  num_411  num_412  num_413  cat_132  cat_133  \\\n",
       "0   43.0    1.0  195.0  ...  46913.2  11327.5  11327.5      1.0      1.0   \n",
       "1   19.0    1.0  170.0  ...   1343.5    168.6    168.6      1.0      1.0   \n",
       "2   76.0    1.0  196.0  ...    268.9    209.1    209.1      1.0      1.0   \n",
       "3   41.0    1.0  117.0  ...   1106.5     56.9     56.9      1.0      1.0   \n",
       "4   45.0    1.0    9.0  ...   5396.0  60925.0     31.0      1.0      1.0   \n",
       "\n",
       "       num_414  num_415  num_416  cat_134  cat_135  \n",
       "0  28162496.65      0.0     0.07      1.0      1.0  \n",
       "1    989383.82      0.0     0.56      2.0      1.0  \n",
       "2     87444.51      0.0     0.01      3.0      1.0  \n",
       "3    297608.00      0.0     0.08      4.0      1.0  \n",
       "4   6614247.89      0.0     0.20      1.0      1.0  \n",
       "\n",
       "[5 rows x 540 columns]"
      ]
     },
     "execution_count": 24,
     "metadata": {},
     "output_type": "execute_result"
    }
   ],
   "source": [
    "df.head()"
   ]
  },
  {
   "cell_type": "code",
   "execution_count": 25,
   "metadata": {},
   "outputs": [],
   "source": [
    "dfnull=df.isnull().sum()\n",
    "\n",
    "# print variables with missing values\n",
    "for i in range(0,len(dfnull)):\n",
    "    if(dfnull[i]!=0):\n",
    "        print(dfnull.index[i],dfnull[i])"
   ]
  },
  {
   "cell_type": "code",
   "execution_count": 26,
   "metadata": {},
   "outputs": [],
   "source": [
    "# no missing values"
   ]
  },
  {
   "cell_type": "code",
   "execution_count": 27,
   "metadata": {},
   "outputs": [],
   "source": [
    "# impute data in df_delay\n",
    "\n",
    "imp_arr1=imputer.transform(df_delay)"
   ]
  },
  {
   "cell_type": "code",
   "execution_count": 28,
   "metadata": {},
   "outputs": [],
   "source": [
    "df_delay[:]=imp_arr1"
   ]
  },
  {
   "cell_type": "code",
   "execution_count": 29,
   "metadata": {},
   "outputs": [
    {
     "data": {
      "text/plain": [
       "Unnamed: 0    float64\n",
       "num_1         float64\n",
       "num_2         float64\n",
       "num_3         float64\n",
       "num_4         float64\n",
       "               ...   \n",
       "num_414       float64\n",
       "num_415       float64\n",
       "num_416       float64\n",
       "cat_134       float64\n",
       "cat_135       float64\n",
       "Length: 540, dtype: object"
      ]
     },
     "execution_count": 29,
     "metadata": {},
     "output_type": "execute_result"
    }
   ],
   "source": [
    "df.dtypes"
   ]
  },
  {
   "cell_type": "code",
   "execution_count": 30,
   "metadata": {},
   "outputs": [],
   "source": [
    "# convert categorical variables back to int\n",
    "\n",
    "for col in df.columns:\n",
    "    if col.find('cat')!=-1:\n",
    "        df[col]=df[col].astype(int)"
   ]
  },
  {
   "cell_type": "code",
   "execution_count": 31,
   "metadata": {},
   "outputs": [],
   "source": [
    "# convert categorical variables back to int\n",
    "\n",
    "for col in df_delay.columns:\n",
    "    if col.find('cat')!=-1:\n",
    "        df_delay[col]=df_delay[col].astype(int)"
   ]
  },
  {
   "cell_type": "code",
   "execution_count": 32,
   "metadata": {},
   "outputs": [
    {
     "data": {
      "text/plain": [
       "Unnamed: 0    float64\n",
       "num_1         float64\n",
       "num_2         float64\n",
       "num_3         float64\n",
       "num_4         float64\n",
       "               ...   \n",
       "num_414       float64\n",
       "num_415       float64\n",
       "num_416       float64\n",
       "cat_134         int64\n",
       "cat_135         int64\n",
       "Length: 540, dtype: object"
      ]
     },
     "execution_count": 32,
     "metadata": {},
     "output_type": "execute_result"
    }
   ],
   "source": [
    "df.dtypes"
   ]
  },
  {
   "cell_type": "code",
   "execution_count": 33,
   "metadata": {},
   "outputs": [
    {
     "data": {
      "text/plain": [
       "Unnamed: 0    float64\n",
       "num_1         float64\n",
       "num_2         float64\n",
       "num_3         float64\n",
       "num_4         float64\n",
       "               ...   \n",
       "num_414       float64\n",
       "num_415       float64\n",
       "num_416       float64\n",
       "cat_134         int64\n",
       "cat_135         int64\n",
       "Length: 540, dtype: object"
      ]
     },
     "execution_count": 33,
     "metadata": {},
     "output_type": "execute_result"
    }
   ],
   "source": [
    "df_delay.dtypes"
   ]
  },
  {
   "cell_type": "code",
   "execution_count": 34,
   "metadata": {},
   "outputs": [
    {
     "data": {
      "text/html": [
       "<div>\n",
       "<style scoped>\n",
       "    .dataframe tbody tr th:only-of-type {\n",
       "        vertical-align: middle;\n",
       "    }\n",
       "\n",
       "    .dataframe tbody tr th {\n",
       "        vertical-align: top;\n",
       "    }\n",
       "\n",
       "    .dataframe thead th {\n",
       "        text-align: right;\n",
       "    }\n",
       "</style>\n",
       "<table border=\"1\" class=\"dataframe\">\n",
       "  <thead>\n",
       "    <tr style=\"text-align: right;\">\n",
       "      <th></th>\n",
       "      <th>Unnamed: 0</th>\n",
       "      <th>num_1</th>\n",
       "      <th>num_2</th>\n",
       "      <th>num_3</th>\n",
       "      <th>num_4</th>\n",
       "      <th>num_5</th>\n",
       "      <th>num_6</th>\n",
       "      <th>num_7</th>\n",
       "      <th>num_8</th>\n",
       "      <th>num_9</th>\n",
       "      <th>...</th>\n",
       "      <th>cat_134_3</th>\n",
       "      <th>cat_134_4</th>\n",
       "      <th>cat_134_5</th>\n",
       "      <th>cat_134_6</th>\n",
       "      <th>cat_134_7</th>\n",
       "      <th>cat_134_8</th>\n",
       "      <th>cat_135_1</th>\n",
       "      <th>cat_135_2</th>\n",
       "      <th>cat_135_3</th>\n",
       "      <th>cat_135_4</th>\n",
       "    </tr>\n",
       "  </thead>\n",
       "  <tbody>\n",
       "    <tr>\n",
       "      <th>0</th>\n",
       "      <td>0.0</td>\n",
       "      <td>1377.3</td>\n",
       "      <td>3712.9</td>\n",
       "      <td>10681.549206</td>\n",
       "      <td>1303.0</td>\n",
       "      <td>2409.00000</td>\n",
       "      <td>1281.7</td>\n",
       "      <td>43.0</td>\n",
       "      <td>195.0</td>\n",
       "      <td>27.93747</td>\n",
       "      <td>...</td>\n",
       "      <td>0</td>\n",
       "      <td>0</td>\n",
       "      <td>0</td>\n",
       "      <td>0</td>\n",
       "      <td>0</td>\n",
       "      <td>0</td>\n",
       "      <td>1</td>\n",
       "      <td>0</td>\n",
       "      <td>0</td>\n",
       "      <td>0</td>\n",
       "    </tr>\n",
       "    <tr>\n",
       "      <th>1</th>\n",
       "      <td>1.0</td>\n",
       "      <td>20.0</td>\n",
       "      <td>13.4</td>\n",
       "      <td>10681.549206</td>\n",
       "      <td>565.0</td>\n",
       "      <td>1811.27911</td>\n",
       "      <td>357.2</td>\n",
       "      <td>19.0</td>\n",
       "      <td>170.0</td>\n",
       "      <td>27.93747</td>\n",
       "      <td>...</td>\n",
       "      <td>0</td>\n",
       "      <td>0</td>\n",
       "      <td>0</td>\n",
       "      <td>0</td>\n",
       "      <td>0</td>\n",
       "      <td>0</td>\n",
       "      <td>1</td>\n",
       "      <td>0</td>\n",
       "      <td>0</td>\n",
       "      <td>0</td>\n",
       "    </tr>\n",
       "    <tr>\n",
       "      <th>2</th>\n",
       "      <td>4.0</td>\n",
       "      <td>150.6</td>\n",
       "      <td>1.8</td>\n",
       "      <td>10681.549206</td>\n",
       "      <td>2294.0</td>\n",
       "      <td>15.00000</td>\n",
       "      <td>107.6</td>\n",
       "      <td>76.0</td>\n",
       "      <td>196.0</td>\n",
       "      <td>2.30000</td>\n",
       "      <td>...</td>\n",
       "      <td>1</td>\n",
       "      <td>0</td>\n",
       "      <td>0</td>\n",
       "      <td>0</td>\n",
       "      <td>0</td>\n",
       "      <td>0</td>\n",
       "      <td>1</td>\n",
       "      <td>0</td>\n",
       "      <td>0</td>\n",
       "      <td>0</td>\n",
       "    </tr>\n",
       "    <tr>\n",
       "      <th>3</th>\n",
       "      <td>5.0</td>\n",
       "      <td>11.4</td>\n",
       "      <td>178.0</td>\n",
       "      <td>10681.549206</td>\n",
       "      <td>1236.0</td>\n",
       "      <td>1811.27911</td>\n",
       "      <td>350.6</td>\n",
       "      <td>41.0</td>\n",
       "      <td>117.0</td>\n",
       "      <td>5.30000</td>\n",
       "      <td>...</td>\n",
       "      <td>0</td>\n",
       "      <td>1</td>\n",
       "      <td>0</td>\n",
       "      <td>0</td>\n",
       "      <td>0</td>\n",
       "      <td>0</td>\n",
       "      <td>1</td>\n",
       "      <td>0</td>\n",
       "      <td>0</td>\n",
       "      <td>0</td>\n",
       "    </tr>\n",
       "    <tr>\n",
       "      <th>4</th>\n",
       "      <td>6.0</td>\n",
       "      <td>5372.0</td>\n",
       "      <td>3386.0</td>\n",
       "      <td>10681.549206</td>\n",
       "      <td>1340.0</td>\n",
       "      <td>1811.27911</td>\n",
       "      <td>14.0</td>\n",
       "      <td>45.0</td>\n",
       "      <td>9.0</td>\n",
       "      <td>108.00000</td>\n",
       "      <td>...</td>\n",
       "      <td>0</td>\n",
       "      <td>0</td>\n",
       "      <td>0</td>\n",
       "      <td>0</td>\n",
       "      <td>0</td>\n",
       "      <td>0</td>\n",
       "      <td>1</td>\n",
       "      <td>0</td>\n",
       "      <td>0</td>\n",
       "      <td>0</td>\n",
       "    </tr>\n",
       "  </tbody>\n",
       "</table>\n",
       "<p>5 rows × 4837 columns</p>\n",
       "</div>"
      ],
      "text/plain": [
       "   Unnamed: 0   num_1   num_2         num_3   num_4       num_5   num_6  \\\n",
       "0         0.0  1377.3  3712.9  10681.549206  1303.0  2409.00000  1281.7   \n",
       "1         1.0    20.0    13.4  10681.549206   565.0  1811.27911   357.2   \n",
       "2         4.0   150.6     1.8  10681.549206  2294.0    15.00000   107.6   \n",
       "3         5.0    11.4   178.0  10681.549206  1236.0  1811.27911   350.6   \n",
       "4         6.0  5372.0  3386.0  10681.549206  1340.0  1811.27911    14.0   \n",
       "\n",
       "   num_7  num_8      num_9  ...  cat_134_3  cat_134_4  cat_134_5  cat_134_6  \\\n",
       "0   43.0  195.0   27.93747  ...          0          0          0          0   \n",
       "1   19.0  170.0   27.93747  ...          0          0          0          0   \n",
       "2   76.0  196.0    2.30000  ...          1          0          0          0   \n",
       "3   41.0  117.0    5.30000  ...          0          1          0          0   \n",
       "4   45.0    9.0  108.00000  ...          0          0          0          0   \n",
       "\n",
       "   cat_134_7  cat_134_8  cat_135_1  cat_135_2  cat_135_3  cat_135_4  \n",
       "0          0          0          1          0          0          0  \n",
       "1          0          0          1          0          0          0  \n",
       "2          0          0          1          0          0          0  \n",
       "3          0          0          1          0          0          0  \n",
       "4          0          0          1          0          0          0  \n",
       "\n",
       "[5 rows x 4837 columns]"
      ]
     },
     "execution_count": 34,
     "metadata": {},
     "output_type": "execute_result"
    }
   ],
   "source": [
    "# replace categorical variables with dummy variables\n",
    "\n",
    "df1=df\n",
    "for col in df.columns:\n",
    "    if col.find('cat')!=-1:\n",
    "        df1=pd.get_dummies(df1, columns=[col])\n",
    "\n",
    "df1.head()"
   ]
  },
  {
   "cell_type": "code",
   "execution_count": 35,
   "metadata": {},
   "outputs": [
    {
     "data": {
      "text/html": [
       "<div>\n",
       "<style scoped>\n",
       "    .dataframe tbody tr th:only-of-type {\n",
       "        vertical-align: middle;\n",
       "    }\n",
       "\n",
       "    .dataframe tbody tr th {\n",
       "        vertical-align: top;\n",
       "    }\n",
       "\n",
       "    .dataframe thead th {\n",
       "        text-align: right;\n",
       "    }\n",
       "</style>\n",
       "<table border=\"1\" class=\"dataframe\">\n",
       "  <thead>\n",
       "    <tr style=\"text-align: right;\">\n",
       "      <th></th>\n",
       "      <th>Unnamed: 0</th>\n",
       "      <th>num_1</th>\n",
       "      <th>num_2</th>\n",
       "      <th>num_3</th>\n",
       "      <th>num_4</th>\n",
       "      <th>num_5</th>\n",
       "      <th>num_6</th>\n",
       "      <th>num_7</th>\n",
       "      <th>num_8</th>\n",
       "      <th>num_9</th>\n",
       "      <th>...</th>\n",
       "      <th>cat_134_3</th>\n",
       "      <th>cat_134_4</th>\n",
       "      <th>cat_134_5</th>\n",
       "      <th>cat_134_6</th>\n",
       "      <th>cat_134_7</th>\n",
       "      <th>cat_134_8</th>\n",
       "      <th>cat_135_1</th>\n",
       "      <th>cat_135_2</th>\n",
       "      <th>cat_135_3</th>\n",
       "      <th>cat_135_4</th>\n",
       "    </tr>\n",
       "  </thead>\n",
       "  <tbody>\n",
       "    <tr>\n",
       "      <th>0</th>\n",
       "      <td>61113.0</td>\n",
       "      <td>133.600000</td>\n",
       "      <td>713.7</td>\n",
       "      <td>10681.549206</td>\n",
       "      <td>997.0</td>\n",
       "      <td>1811.27911</td>\n",
       "      <td>1779.5</td>\n",
       "      <td>33.0</td>\n",
       "      <td>84.0</td>\n",
       "      <td>20.70000</td>\n",
       "      <td>...</td>\n",
       "      <td>0</td>\n",
       "      <td>0</td>\n",
       "      <td>0</td>\n",
       "      <td>0</td>\n",
       "      <td>0</td>\n",
       "      <td>0</td>\n",
       "      <td>1</td>\n",
       "      <td>0</td>\n",
       "      <td>0</td>\n",
       "      <td>0</td>\n",
       "    </tr>\n",
       "    <tr>\n",
       "      <th>1</th>\n",
       "      <td>61114.0</td>\n",
       "      <td>2913.900000</td>\n",
       "      <td>1160.4</td>\n",
       "      <td>10681.549206</td>\n",
       "      <td>2112.0</td>\n",
       "      <td>593.30000</td>\n",
       "      <td>970.6</td>\n",
       "      <td>70.0</td>\n",
       "      <td>72.0</td>\n",
       "      <td>2.30000</td>\n",
       "      <td>...</td>\n",
       "      <td>0</td>\n",
       "      <td>1</td>\n",
       "      <td>0</td>\n",
       "      <td>0</td>\n",
       "      <td>0</td>\n",
       "      <td>0</td>\n",
       "      <td>1</td>\n",
       "      <td>0</td>\n",
       "      <td>0</td>\n",
       "      <td>0</td>\n",
       "    </tr>\n",
       "    <tr>\n",
       "      <th>2</th>\n",
       "      <td>61124.0</td>\n",
       "      <td>1561.600000</td>\n",
       "      <td>544.9</td>\n",
       "      <td>10681.549206</td>\n",
       "      <td>1160.0</td>\n",
       "      <td>1811.27911</td>\n",
       "      <td>1779.7</td>\n",
       "      <td>39.0</td>\n",
       "      <td>91.0</td>\n",
       "      <td>27.93747</td>\n",
       "      <td>...</td>\n",
       "      <td>0</td>\n",
       "      <td>0</td>\n",
       "      <td>1</td>\n",
       "      <td>0</td>\n",
       "      <td>0</td>\n",
       "      <td>0</td>\n",
       "      <td>1</td>\n",
       "      <td>0</td>\n",
       "      <td>0</td>\n",
       "      <td>0</td>\n",
       "    </tr>\n",
       "    <tr>\n",
       "      <th>3</th>\n",
       "      <td>61126.0</td>\n",
       "      <td>916.000000</td>\n",
       "      <td>26767.0</td>\n",
       "      <td>10681.549206</td>\n",
       "      <td>199.0</td>\n",
       "      <td>1811.27911</td>\n",
       "      <td>626.0</td>\n",
       "      <td>7.0</td>\n",
       "      <td>209.0</td>\n",
       "      <td>70.00000</td>\n",
       "      <td>...</td>\n",
       "      <td>0</td>\n",
       "      <td>0</td>\n",
       "      <td>0</td>\n",
       "      <td>0</td>\n",
       "      <td>0</td>\n",
       "      <td>1</td>\n",
       "      <td>1</td>\n",
       "      <td>0</td>\n",
       "      <td>0</td>\n",
       "      <td>0</td>\n",
       "    </tr>\n",
       "    <tr>\n",
       "      <th>4</th>\n",
       "      <td>61128.0</td>\n",
       "      <td>4969.082467</td>\n",
       "      <td>15.4</td>\n",
       "      <td>10681.549206</td>\n",
       "      <td>2279.0</td>\n",
       "      <td>1.50000</td>\n",
       "      <td>289.1</td>\n",
       "      <td>76.0</td>\n",
       "      <td>84.0</td>\n",
       "      <td>2.40000</td>\n",
       "      <td>...</td>\n",
       "      <td>1</td>\n",
       "      <td>0</td>\n",
       "      <td>0</td>\n",
       "      <td>0</td>\n",
       "      <td>0</td>\n",
       "      <td>0</td>\n",
       "      <td>1</td>\n",
       "      <td>0</td>\n",
       "      <td>0</td>\n",
       "      <td>0</td>\n",
       "    </tr>\n",
       "  </tbody>\n",
       "</table>\n",
       "<p>5 rows × 4697 columns</p>\n",
       "</div>"
      ],
      "text/plain": [
       "   Unnamed: 0        num_1    num_2         num_3   num_4       num_5   num_6  \\\n",
       "0     61113.0   133.600000    713.7  10681.549206   997.0  1811.27911  1779.5   \n",
       "1     61114.0  2913.900000   1160.4  10681.549206  2112.0   593.30000   970.6   \n",
       "2     61124.0  1561.600000    544.9  10681.549206  1160.0  1811.27911  1779.7   \n",
       "3     61126.0   916.000000  26767.0  10681.549206   199.0  1811.27911   626.0   \n",
       "4     61128.0  4969.082467     15.4  10681.549206  2279.0     1.50000   289.1   \n",
       "\n",
       "   num_7  num_8     num_9  ...  cat_134_3  cat_134_4  cat_134_5  cat_134_6  \\\n",
       "0   33.0   84.0  20.70000  ...          0          0          0          0   \n",
       "1   70.0   72.0   2.30000  ...          0          1          0          0   \n",
       "2   39.0   91.0  27.93747  ...          0          0          1          0   \n",
       "3    7.0  209.0  70.00000  ...          0          0          0          0   \n",
       "4   76.0   84.0   2.40000  ...          1          0          0          0   \n",
       "\n",
       "   cat_134_7  cat_134_8  cat_135_1  cat_135_2  cat_135_3  cat_135_4  \n",
       "0          0          0          1          0          0          0  \n",
       "1          0          0          1          0          0          0  \n",
       "2          0          0          1          0          0          0  \n",
       "3          0          1          1          0          0          0  \n",
       "4          0          0          1          0          0          0  \n",
       "\n",
       "[5 rows x 4697 columns]"
      ]
     },
     "execution_count": 35,
     "metadata": {},
     "output_type": "execute_result"
    }
   ],
   "source": [
    "# perform the same operation for df_delay\n",
    "\n",
    "\n",
    "df_delay1=df_delay\n",
    "for col in df_delay1.columns:\n",
    "    if col.find('cat')!=-1:\n",
    "        df_delay1=pd.get_dummies(df_delay1, columns=[col])\n",
    "\n",
    "df_delay1.head()"
   ]
  },
  {
   "cell_type": "code",
   "execution_count": 36,
   "metadata": {},
   "outputs": [
    {
     "data": {
      "text/html": [
       "<div>\n",
       "<style scoped>\n",
       "    .dataframe tbody tr th:only-of-type {\n",
       "        vertical-align: middle;\n",
       "    }\n",
       "\n",
       "    .dataframe tbody tr th {\n",
       "        vertical-align: top;\n",
       "    }\n",
       "\n",
       "    .dataframe thead th {\n",
       "        text-align: right;\n",
       "    }\n",
       "</style>\n",
       "<table border=\"1\" class=\"dataframe\">\n",
       "  <thead>\n",
       "    <tr style=\"text-align: right;\">\n",
       "      <th></th>\n",
       "      <th>Unnamed: 0</th>\n",
       "      <th>num_1</th>\n",
       "      <th>num_2</th>\n",
       "      <th>num_3</th>\n",
       "      <th>num_4</th>\n",
       "      <th>num_5</th>\n",
       "      <th>num_6</th>\n",
       "      <th>num_7</th>\n",
       "      <th>num_8</th>\n",
       "      <th>num_9</th>\n",
       "      <th>...</th>\n",
       "      <th>cat_124_31</th>\n",
       "      <th>cat_124_34</th>\n",
       "      <th>cat_124_38</th>\n",
       "      <th>cat_124_39</th>\n",
       "      <th>cat_124_41</th>\n",
       "      <th>cat_124_43</th>\n",
       "      <th>cat_124_46</th>\n",
       "      <th>cat_124_50</th>\n",
       "      <th>cat_124_52</th>\n",
       "      <th>cat_124_53</th>\n",
       "    </tr>\n",
       "  </thead>\n",
       "  <tbody>\n",
       "    <tr>\n",
       "      <th>0</th>\n",
       "      <td>61113.0</td>\n",
       "      <td>133.600000</td>\n",
       "      <td>713.7</td>\n",
       "      <td>10681.549206</td>\n",
       "      <td>997.0</td>\n",
       "      <td>1811.27911</td>\n",
       "      <td>1779.5</td>\n",
       "      <td>33.0</td>\n",
       "      <td>84.0</td>\n",
       "      <td>20.70000</td>\n",
       "      <td>...</td>\n",
       "      <td>0</td>\n",
       "      <td>0</td>\n",
       "      <td>0</td>\n",
       "      <td>0</td>\n",
       "      <td>0</td>\n",
       "      <td>0</td>\n",
       "      <td>0</td>\n",
       "      <td>0</td>\n",
       "      <td>0</td>\n",
       "      <td>0</td>\n",
       "    </tr>\n",
       "    <tr>\n",
       "      <th>1</th>\n",
       "      <td>61114.0</td>\n",
       "      <td>2913.900000</td>\n",
       "      <td>1160.4</td>\n",
       "      <td>10681.549206</td>\n",
       "      <td>2112.0</td>\n",
       "      <td>593.30000</td>\n",
       "      <td>970.6</td>\n",
       "      <td>70.0</td>\n",
       "      <td>72.0</td>\n",
       "      <td>2.30000</td>\n",
       "      <td>...</td>\n",
       "      <td>0</td>\n",
       "      <td>0</td>\n",
       "      <td>0</td>\n",
       "      <td>0</td>\n",
       "      <td>0</td>\n",
       "      <td>0</td>\n",
       "      <td>0</td>\n",
       "      <td>0</td>\n",
       "      <td>0</td>\n",
       "      <td>0</td>\n",
       "    </tr>\n",
       "    <tr>\n",
       "      <th>2</th>\n",
       "      <td>61124.0</td>\n",
       "      <td>1561.600000</td>\n",
       "      <td>544.9</td>\n",
       "      <td>10681.549206</td>\n",
       "      <td>1160.0</td>\n",
       "      <td>1811.27911</td>\n",
       "      <td>1779.7</td>\n",
       "      <td>39.0</td>\n",
       "      <td>91.0</td>\n",
       "      <td>27.93747</td>\n",
       "      <td>...</td>\n",
       "      <td>0</td>\n",
       "      <td>0</td>\n",
       "      <td>0</td>\n",
       "      <td>0</td>\n",
       "      <td>0</td>\n",
       "      <td>0</td>\n",
       "      <td>0</td>\n",
       "      <td>0</td>\n",
       "      <td>0</td>\n",
       "      <td>0</td>\n",
       "    </tr>\n",
       "    <tr>\n",
       "      <th>3</th>\n",
       "      <td>61126.0</td>\n",
       "      <td>916.000000</td>\n",
       "      <td>26767.0</td>\n",
       "      <td>10681.549206</td>\n",
       "      <td>199.0</td>\n",
       "      <td>1811.27911</td>\n",
       "      <td>626.0</td>\n",
       "      <td>7.0</td>\n",
       "      <td>209.0</td>\n",
       "      <td>70.00000</td>\n",
       "      <td>...</td>\n",
       "      <td>0</td>\n",
       "      <td>0</td>\n",
       "      <td>0</td>\n",
       "      <td>0</td>\n",
       "      <td>0</td>\n",
       "      <td>0</td>\n",
       "      <td>0</td>\n",
       "      <td>0</td>\n",
       "      <td>0</td>\n",
       "      <td>0</td>\n",
       "    </tr>\n",
       "    <tr>\n",
       "      <th>4</th>\n",
       "      <td>61128.0</td>\n",
       "      <td>4969.082467</td>\n",
       "      <td>15.4</td>\n",
       "      <td>10681.549206</td>\n",
       "      <td>2279.0</td>\n",
       "      <td>1.50000</td>\n",
       "      <td>289.1</td>\n",
       "      <td>76.0</td>\n",
       "      <td>84.0</td>\n",
       "      <td>2.40000</td>\n",
       "      <td>...</td>\n",
       "      <td>0</td>\n",
       "      <td>0</td>\n",
       "      <td>0</td>\n",
       "      <td>0</td>\n",
       "      <td>0</td>\n",
       "      <td>0</td>\n",
       "      <td>0</td>\n",
       "      <td>0</td>\n",
       "      <td>0</td>\n",
       "      <td>0</td>\n",
       "    </tr>\n",
       "  </tbody>\n",
       "</table>\n",
       "<p>5 rows × 5838 columns</p>\n",
       "</div>"
      ],
      "text/plain": [
       "   Unnamed: 0        num_1    num_2         num_3   num_4       num_5   num_6  \\\n",
       "0     61113.0   133.600000    713.7  10681.549206   997.0  1811.27911  1779.5   \n",
       "1     61114.0  2913.900000   1160.4  10681.549206  2112.0   593.30000   970.6   \n",
       "2     61124.0  1561.600000    544.9  10681.549206  1160.0  1811.27911  1779.7   \n",
       "3     61126.0   916.000000  26767.0  10681.549206   199.0  1811.27911   626.0   \n",
       "4     61128.0  4969.082467     15.4  10681.549206  2279.0     1.50000   289.1   \n",
       "\n",
       "   num_7  num_8     num_9  ...  cat_124_31  cat_124_34  cat_124_38  \\\n",
       "0   33.0   84.0  20.70000  ...           0           0           0   \n",
       "1   70.0   72.0   2.30000  ...           0           0           0   \n",
       "2   39.0   91.0  27.93747  ...           0           0           0   \n",
       "3    7.0  209.0  70.00000  ...           0           0           0   \n",
       "4   76.0   84.0   2.40000  ...           0           0           0   \n",
       "\n",
       "   cat_124_39  cat_124_41  cat_124_43  cat_124_46  cat_124_50  cat_124_52  \\\n",
       "0           0           0           0           0           0           0   \n",
       "1           0           0           0           0           0           0   \n",
       "2           0           0           0           0           0           0   \n",
       "3           0           0           0           0           0           0   \n",
       "4           0           0           0           0           0           0   \n",
       "\n",
       "   cat_124_53  \n",
       "0           0  \n",
       "1           0  \n",
       "2           0  \n",
       "3           0  \n",
       "4           0  \n",
       "\n",
       "[5 rows x 5838 columns]"
      ]
     },
     "execution_count": 36,
     "metadata": {},
     "output_type": "execute_result"
    }
   ],
   "source": [
    "# add dummy variables present in df1 and absent in df_delay1\n",
    "\n",
    "for col in df1.columns:\n",
    "    if not (col in df_delay1.columns):\n",
    "        df_delay1[col]=0\n",
    "        \n",
    "df_delay1.head()\n",
    "        \n"
   ]
  },
  {
   "cell_type": "code",
   "execution_count": 37,
   "metadata": {},
   "outputs": [
    {
     "data": {
      "text/plain": [
       "1001"
      ]
     },
     "execution_count": 37,
     "metadata": {},
     "output_type": "execute_result"
    }
   ],
   "source": [
    "# df_delay1 has more columns than df1 since df_delay has extra categories not present in df\n",
    "\n",
    "drop_array1=[]\n",
    "\n",
    "for col in df_delay1.columns:\n",
    "    if not (col in df1.columns):\n",
    "        drop_array1.append(col)\n",
    "\n",
    "len(drop_array1)"
   ]
  },
  {
   "cell_type": "code",
   "execution_count": 38,
   "metadata": {},
   "outputs": [],
   "source": [
    "df_delay1.drop(drop_array1,axis='columns',inplace=True)"
   ]
  },
  {
   "cell_type": "code",
   "execution_count": 39,
   "metadata": {},
   "outputs": [
    {
     "data": {
      "text/html": [
       "<div>\n",
       "<style scoped>\n",
       "    .dataframe tbody tr th:only-of-type {\n",
       "        vertical-align: middle;\n",
       "    }\n",
       "\n",
       "    .dataframe tbody tr th {\n",
       "        vertical-align: top;\n",
       "    }\n",
       "\n",
       "    .dataframe thead th {\n",
       "        text-align: right;\n",
       "    }\n",
       "</style>\n",
       "<table border=\"1\" class=\"dataframe\">\n",
       "  <thead>\n",
       "    <tr style=\"text-align: right;\">\n",
       "      <th></th>\n",
       "      <th>Unnamed: 0</th>\n",
       "      <th>num_1</th>\n",
       "      <th>num_2</th>\n",
       "      <th>num_3</th>\n",
       "      <th>num_4</th>\n",
       "      <th>num_5</th>\n",
       "      <th>num_6</th>\n",
       "      <th>num_7</th>\n",
       "      <th>num_8</th>\n",
       "      <th>num_9</th>\n",
       "      <th>...</th>\n",
       "      <th>cat_124_31</th>\n",
       "      <th>cat_124_34</th>\n",
       "      <th>cat_124_38</th>\n",
       "      <th>cat_124_39</th>\n",
       "      <th>cat_124_41</th>\n",
       "      <th>cat_124_43</th>\n",
       "      <th>cat_124_46</th>\n",
       "      <th>cat_124_50</th>\n",
       "      <th>cat_124_52</th>\n",
       "      <th>cat_124_53</th>\n",
       "    </tr>\n",
       "  </thead>\n",
       "  <tbody>\n",
       "    <tr>\n",
       "      <th>0</th>\n",
       "      <td>61113.0</td>\n",
       "      <td>133.600000</td>\n",
       "      <td>713.7</td>\n",
       "      <td>10681.549206</td>\n",
       "      <td>997.0</td>\n",
       "      <td>1811.27911</td>\n",
       "      <td>1779.5</td>\n",
       "      <td>33.0</td>\n",
       "      <td>84.0</td>\n",
       "      <td>20.70000</td>\n",
       "      <td>...</td>\n",
       "      <td>0</td>\n",
       "      <td>0</td>\n",
       "      <td>0</td>\n",
       "      <td>0</td>\n",
       "      <td>0</td>\n",
       "      <td>0</td>\n",
       "      <td>0</td>\n",
       "      <td>0</td>\n",
       "      <td>0</td>\n",
       "      <td>0</td>\n",
       "    </tr>\n",
       "    <tr>\n",
       "      <th>1</th>\n",
       "      <td>61114.0</td>\n",
       "      <td>2913.900000</td>\n",
       "      <td>1160.4</td>\n",
       "      <td>10681.549206</td>\n",
       "      <td>2112.0</td>\n",
       "      <td>593.30000</td>\n",
       "      <td>970.6</td>\n",
       "      <td>70.0</td>\n",
       "      <td>72.0</td>\n",
       "      <td>2.30000</td>\n",
       "      <td>...</td>\n",
       "      <td>0</td>\n",
       "      <td>0</td>\n",
       "      <td>0</td>\n",
       "      <td>0</td>\n",
       "      <td>0</td>\n",
       "      <td>0</td>\n",
       "      <td>0</td>\n",
       "      <td>0</td>\n",
       "      <td>0</td>\n",
       "      <td>0</td>\n",
       "    </tr>\n",
       "    <tr>\n",
       "      <th>2</th>\n",
       "      <td>61124.0</td>\n",
       "      <td>1561.600000</td>\n",
       "      <td>544.9</td>\n",
       "      <td>10681.549206</td>\n",
       "      <td>1160.0</td>\n",
       "      <td>1811.27911</td>\n",
       "      <td>1779.7</td>\n",
       "      <td>39.0</td>\n",
       "      <td>91.0</td>\n",
       "      <td>27.93747</td>\n",
       "      <td>...</td>\n",
       "      <td>0</td>\n",
       "      <td>0</td>\n",
       "      <td>0</td>\n",
       "      <td>0</td>\n",
       "      <td>0</td>\n",
       "      <td>0</td>\n",
       "      <td>0</td>\n",
       "      <td>0</td>\n",
       "      <td>0</td>\n",
       "      <td>0</td>\n",
       "    </tr>\n",
       "    <tr>\n",
       "      <th>3</th>\n",
       "      <td>61126.0</td>\n",
       "      <td>916.000000</td>\n",
       "      <td>26767.0</td>\n",
       "      <td>10681.549206</td>\n",
       "      <td>199.0</td>\n",
       "      <td>1811.27911</td>\n",
       "      <td>626.0</td>\n",
       "      <td>7.0</td>\n",
       "      <td>209.0</td>\n",
       "      <td>70.00000</td>\n",
       "      <td>...</td>\n",
       "      <td>0</td>\n",
       "      <td>0</td>\n",
       "      <td>0</td>\n",
       "      <td>0</td>\n",
       "      <td>0</td>\n",
       "      <td>0</td>\n",
       "      <td>0</td>\n",
       "      <td>0</td>\n",
       "      <td>0</td>\n",
       "      <td>0</td>\n",
       "    </tr>\n",
       "    <tr>\n",
       "      <th>4</th>\n",
       "      <td>61128.0</td>\n",
       "      <td>4969.082467</td>\n",
       "      <td>15.4</td>\n",
       "      <td>10681.549206</td>\n",
       "      <td>2279.0</td>\n",
       "      <td>1.50000</td>\n",
       "      <td>289.1</td>\n",
       "      <td>76.0</td>\n",
       "      <td>84.0</td>\n",
       "      <td>2.40000</td>\n",
       "      <td>...</td>\n",
       "      <td>0</td>\n",
       "      <td>0</td>\n",
       "      <td>0</td>\n",
       "      <td>0</td>\n",
       "      <td>0</td>\n",
       "      <td>0</td>\n",
       "      <td>0</td>\n",
       "      <td>0</td>\n",
       "      <td>0</td>\n",
       "      <td>0</td>\n",
       "    </tr>\n",
       "  </tbody>\n",
       "</table>\n",
       "<p>5 rows × 4837 columns</p>\n",
       "</div>"
      ],
      "text/plain": [
       "   Unnamed: 0        num_1    num_2         num_3   num_4       num_5   num_6  \\\n",
       "0     61113.0   133.600000    713.7  10681.549206   997.0  1811.27911  1779.5   \n",
       "1     61114.0  2913.900000   1160.4  10681.549206  2112.0   593.30000   970.6   \n",
       "2     61124.0  1561.600000    544.9  10681.549206  1160.0  1811.27911  1779.7   \n",
       "3     61126.0   916.000000  26767.0  10681.549206   199.0  1811.27911   626.0   \n",
       "4     61128.0  4969.082467     15.4  10681.549206  2279.0     1.50000   289.1   \n",
       "\n",
       "   num_7  num_8     num_9  ...  cat_124_31  cat_124_34  cat_124_38  \\\n",
       "0   33.0   84.0  20.70000  ...           0           0           0   \n",
       "1   70.0   72.0   2.30000  ...           0           0           0   \n",
       "2   39.0   91.0  27.93747  ...           0           0           0   \n",
       "3    7.0  209.0  70.00000  ...           0           0           0   \n",
       "4   76.0   84.0   2.40000  ...           0           0           0   \n",
       "\n",
       "   cat_124_39  cat_124_41  cat_124_43  cat_124_46  cat_124_50  cat_124_52  \\\n",
       "0           0           0           0           0           0           0   \n",
       "1           0           0           0           0           0           0   \n",
       "2           0           0           0           0           0           0   \n",
       "3           0           0           0           0           0           0   \n",
       "4           0           0           0           0           0           0   \n",
       "\n",
       "   cat_124_53  \n",
       "0           0  \n",
       "1           0  \n",
       "2           0  \n",
       "3           0  \n",
       "4           0  \n",
       "\n",
       "[5 rows x 4837 columns]"
      ]
     },
     "execution_count": 39,
     "metadata": {},
     "output_type": "execute_result"
    }
   ],
   "source": [
    "df_delay1.head()"
   ]
  },
  {
   "cell_type": "code",
   "execution_count": 40,
   "metadata": {},
   "outputs": [],
   "source": [
    "# now df1 and df_delay1 have the same number of columns"
   ]
  },
  {
   "cell_type": "code",
   "execution_count": 41,
   "metadata": {},
   "outputs": [],
   "source": [
    "#define X for dataset\n",
    "\n",
    "X=np.asarray(df1)"
   ]
  },
  {
   "cell_type": "code",
   "execution_count": 42,
   "metadata": {},
   "outputs": [
    {
     "name": "stdout",
     "output_type": "stream",
     "text": [
      "[[0.00000000e+00 1.37730000e+03 3.71290000e+03 ... 0.00000000e+00\n",
      "  0.00000000e+00 0.00000000e+00]\n",
      " [1.00000000e+00 2.00000000e+01 1.34000000e+01 ... 0.00000000e+00\n",
      "  0.00000000e+00 0.00000000e+00]\n",
      " [4.00000000e+00 1.50600000e+02 1.80000000e+00 ... 0.00000000e+00\n",
      "  0.00000000e+00 0.00000000e+00]\n",
      " ...\n",
      " [6.11080000e+04 4.36800000e+03 5.00400000e+03 ... 0.00000000e+00\n",
      "  0.00000000e+00 0.00000000e+00]\n",
      " [6.11100000e+04 4.96908247e+03 6.18765055e+03 ... 0.00000000e+00\n",
      "  0.00000000e+00 0.00000000e+00]\n",
      " [6.11110000e+04 2.85000000e+01 2.63000000e+01 ... 0.00000000e+00\n",
      "  0.00000000e+00 0.00000000e+00]]\n"
     ]
    }
   ],
   "source": [
    "print(X)"
   ]
  },
  {
   "cell_type": "code",
   "execution_count": 43,
   "metadata": {},
   "outputs": [
    {
     "name": "stdout",
     "output_type": "stream",
     "text": [
      "[0 0 0 ... 0 0 0]\n"
     ]
    }
   ],
   "source": [
    "print(y)"
   ]
  },
  {
   "cell_type": "code",
   "execution_count": 44,
   "metadata": {},
   "outputs": [
    {
     "data": {
      "text/plain": [
       "(26824, 4837)"
      ]
     },
     "execution_count": 44,
     "metadata": {},
     "output_type": "execute_result"
    }
   ],
   "source": [
    "X.shape"
   ]
  },
  {
   "cell_type": "code",
   "execution_count": 45,
   "metadata": {},
   "outputs": [
    {
     "data": {
      "text/plain": [
       "(26824,)"
      ]
     },
     "execution_count": 45,
     "metadata": {},
     "output_type": "execute_result"
    }
   ],
   "source": [
    "y.shape"
   ]
  },
  {
   "cell_type": "code",
   "execution_count": 46,
   "metadata": {},
   "outputs": [
    {
     "data": {
      "text/plain": [
       "array([[-1.66832477, -0.06819564, -0.03504656, ..., -0.09679725,\n",
       "        -0.02992528, -0.01727221],\n",
       "       [-1.66826842, -0.09396612, -0.08743761, ..., -0.09679725,\n",
       "        -0.02992528, -0.01727221],\n",
       "       [-1.66809937, -0.09148647, -0.08760188, ..., -0.09679725,\n",
       "        -0.02992528, -0.01727221],\n",
       "       [-1.66804302, -0.0941294 , -0.0851066 , ..., -0.09679725,\n",
       "        -0.02992528, -0.01727221],\n",
       "       [-1.66798667,  0.00765002, -0.03967601, ..., -0.09679725,\n",
       "        -0.02992528, -0.01727221]])"
      ]
     },
     "execution_count": 46,
     "metadata": {},
     "output_type": "execute_result"
    }
   ],
   "source": [
    "# normalize the dataset\n",
    "\n",
    "from sklearn import preprocessing\n",
    "X = preprocessing.StandardScaler().fit(X).transform(X)\n",
    "X[0:5]"
   ]
  },
  {
   "cell_type": "code",
   "execution_count": 47,
   "metadata": {},
   "outputs": [
    {
     "name": "stdout",
     "output_type": "stream",
     "text": [
      "Train set: (21459, 4837) (21459,)\n",
      "Test set: (5365, 4837) (5365,)\n"
     ]
    }
   ],
   "source": [
    "# split our dataset into train and test set\n",
    "\n",
    "from sklearn.model_selection import train_test_split\n",
    "X_train, X_test, y_train, y_test = train_test_split( X, y, test_size=0.2, random_state=1)\n",
    "print ('Train set:', X_train.shape,  y_train.shape)\n",
    "print ('Test set:', X_test.shape,  y_test.shape)"
   ]
  },
  {
   "cell_type": "markdown",
   "metadata": {},
   "source": [
    "<h4>Logistic regression </h4>"
   ]
  },
  {
   "cell_type": "code",
   "execution_count": 48,
   "metadata": {},
   "outputs": [
    {
     "data": {
      "text/plain": [
       "LogisticRegression(C=0.01, class_weight=None, dual=False, fit_intercept=True,\n",
       "                   intercept_scaling=1, l1_ratio=None, max_iter=100,\n",
       "                   multi_class='auto', n_jobs=None, penalty='l2',\n",
       "                   random_state=None, solver='liblinear', tol=0.0001, verbose=0,\n",
       "                   warm_start=False)"
      ]
     },
     "execution_count": 48,
     "metadata": {},
     "output_type": "execute_result"
    }
   ],
   "source": [
    "# modeling logistic regression\n",
    "\n",
    "from sklearn.linear_model import LogisticRegression\n",
    "from sklearn.metrics import confusion_matrix\n",
    "LR = LogisticRegression(C=0.01, solver='liblinear').fit(X_train,y_train)\n",
    "LR"
   ]
  },
  {
   "cell_type": "code",
   "execution_count": 49,
   "metadata": {},
   "outputs": [
    {
     "data": {
      "text/plain": [
       "array([0, 0, 0, ..., 0, 0, 0])"
      ]
     },
     "execution_count": 49,
     "metadata": {},
     "output_type": "execute_result"
    }
   ],
   "source": [
    "# predict using test dataset\n",
    "\n",
    "yhat = LR.predict(X_test)\n",
    "yhat"
   ]
  },
  {
   "cell_type": "code",
   "execution_count": 50,
   "metadata": {},
   "outputs": [
    {
     "name": "stdout",
     "output_type": "stream",
     "text": [
      "Accuracy: 0.9821062441752096\n"
     ]
    }
   ],
   "source": [
    "from sklearn import metrics\n",
    "\n",
    "print(\"Accuracy:\",metrics.accuracy_score(y_test, yhat))"
   ]
  },
  {
   "cell_type": "code",
   "execution_count": 51,
   "metadata": {},
   "outputs": [
    {
     "name": "stdout",
     "output_type": "stream",
     "text": [
      "Confusion matrix, without normalization\n",
      "[[  86   39]\n",
      " [  57 5183]]\n"
     ]
    },
    {
     "data": {
      "image/png": "[encoded data removed]",
      "text/plain": [
       "<Figure size 432x288 with 2 Axes>"
      ]
     },
     "metadata": {
      "needs_background": "light"
     },
     "output_type": "display_data"
    }
   ],
   "source": [
    "# let's have a look at the confusion matrix\n",
    "\n",
    "from sklearn.metrics import classification_report, confusion_matrix\n",
    "import itertools\n",
    "def plot_confusion_matrix(cm, classes,\n",
    "                          normalize=False,\n",
    "                          title='Confusion matrix',\n",
    "                          cmap=plt.cm.Blues):\n",
    "    \"\"\"\n",
    "    This function prints and plots the confusion matrix.\n",
    "    Normalization can be applied by setting `normalize=True`.\n",
    "    \"\"\"\n",
    "    if normalize:\n",
    "        cm = cm.astype('float') / cm.sum(axis=1)[:, np.newaxis]\n",
    "        print(\"Normalized confusion matrix\")\n",
    "    else:\n",
    "        print('Confusion matrix, without normalization')\n",
    "\n",
    "    print(cm)\n",
    "\n",
    "    plt.imshow(cm, interpolation='nearest', cmap=cmap)\n",
    "    plt.title(title)\n",
    "    plt.colorbar()\n",
    "    tick_marks = np.arange(len(classes))\n",
    "    plt.xticks(tick_marks, classes, rotation=45)\n",
    "    plt.yticks(tick_marks, classes)\n",
    "\n",
    "    fmt = '.2f' if normalize else 'd'\n",
    "    thresh = cm.max() / 2.\n",
    "    for i, j in itertools.product(range(cm.shape[0]), range(cm.shape[1])):\n",
    "        plt.text(j, i, format(cm[i, j], fmt),\n",
    "                 horizontalalignment=\"center\",\n",
    "                 color=\"white\" if cm[i, j] > thresh else \"black\")\n",
    "\n",
    "    plt.tight_layout()\n",
    "    plt.ylabel('True label')\n",
    "    plt.xlabel('Predicted label')\n",
    "\n",
    "    \n",
    "    \n",
    "# Compute confusion matrix\n",
    "cnf_matrix = confusion_matrix(y_test, yhat, labels=[1,0])\n",
    "np.set_printoptions(precision=2)\n",
    "\n",
    "\n",
    "# Plot non-normalized confusion matrix\n",
    "plt.figure()\n",
    "plot_confusion_matrix(cnf_matrix, classes=['1','0'],normalize= False,  title='Confusion matrix')"
   ]
  },
  {
   "cell_type": "markdown",
   "metadata": {},
   "source": [
    "<h4>Random forest</h4>"
   ]
  },
  {
   "cell_type": "code",
   "execution_count": 54,
   "metadata": {},
   "outputs": [],
   "source": [
    "# let's try random forest\n",
    "\n",
    "\n",
    "from sklearn.ensemble import RandomForestClassifier\n"
   ]
  },
  {
   "cell_type": "code",
   "execution_count": 55,
   "metadata": {},
   "outputs": [],
   "source": [
    "#Create a Gaussian Classifier\n",
    "clf=RandomForestClassifier(n_estimators=300)"
   ]
  },
  {
   "cell_type": "code",
   "execution_count": 56,
   "metadata": {},
   "outputs": [
    {
     "data": {
      "text/plain": [
       "RandomForestClassifier(bootstrap=True, ccp_alpha=0.0, class_weight=None,\n",
       "                       criterion='gini', max_depth=None, max_features='auto',\n",
       "                       max_leaf_nodes=None, max_samples=None,\n",
       "                       min_impurity_decrease=0.0, min_impurity_split=None,\n",
       "                       min_samples_leaf=1, min_samples_split=2,\n",
       "                       min_weight_fraction_leaf=0.0, n_estimators=300,\n",
       "                       n_jobs=None, oob_score=False, random_state=None,\n",
       "                       verbose=0, warm_start=False)"
      ]
     },
     "execution_count": 56,
     "metadata": {},
     "output_type": "execute_result"
    }
   ],
   "source": [
    "clf.fit(X_train,y_train)"
   ]
  },
  {
   "cell_type": "code",
   "execution_count": 57,
   "metadata": {},
   "outputs": [
    {
     "data": {
      "text/plain": [
       "array([0, 0, 0, ..., 0, 0, 0])"
      ]
     },
     "execution_count": 57,
     "metadata": {},
     "output_type": "execute_result"
    }
   ],
   "source": [
    "yhat1=clf.predict(X_test)\n",
    "yhat1\n"
   ]
  },
  {
   "cell_type": "code",
   "execution_count": 58,
   "metadata": {},
   "outputs": [
    {
     "name": "stdout",
     "output_type": "stream",
     "text": [
      "Accuracy: 0.9882572227399814\n"
     ]
    }
   ],
   "source": [
    "print(\"Accuracy:\",metrics.accuracy_score(y_test, yhat1))"
   ]
  },
  {
   "cell_type": "code",
   "execution_count": 61,
   "metadata": {},
   "outputs": [],
   "source": [
    "# slightly better performance than logistic regression 0.9882572227399814 vs 0.9821062441752096"
   ]
  },
  {
   "cell_type": "code",
   "execution_count": 60,
   "metadata": {},
   "outputs": [
    {
     "name": "stdout",
     "output_type": "stream",
     "text": [
      "Confusion matrix, without normalization\n",
      "[[  63   62]\n",
      " [   1 5239]]\n"
     ]
    },
    {
     "data": {
      "image/png": "[encoded data removed]",
      "text/plain": [
       "<Figure size 432x288 with 2 Axes>"
      ]
     },
     "metadata": {
      "needs_background": "light"
     },
     "output_type": "display_data"
    }
   ],
   "source": [
    "# let's have a look at the confusion matrix\n",
    "\n",
    "from sklearn.metrics import classification_report, confusion_matrix\n",
    "import itertools\n",
    "def plot_confusion_matrix(cm, classes,\n",
    "                          normalize=False,\n",
    "                          title='Confusion matrix',\n",
    "                          cmap=plt.cm.Blues):\n",
    "    \"\"\"\n",
    "    This function prints and plots the confusion matrix.\n",
    "    Normalization can be applied by setting `normalize=True`.\n",
    "    \"\"\"\n",
    "    if normalize:\n",
    "        cm = cm.astype('float') / cm.sum(axis=1)[:, np.newaxis]\n",
    "        print(\"Normalized confusion matrix\")\n",
    "    else:\n",
    "        print('Confusion matrix, without normalization')\n",
    "\n",
    "    print(cm)\n",
    "\n",
    "    plt.imshow(cm, interpolation='nearest', cmap=cmap)\n",
    "    plt.title(title)\n",
    "    plt.colorbar()\n",
    "    tick_marks = np.arange(len(classes))\n",
    "    plt.xticks(tick_marks, classes, rotation=45)\n",
    "    plt.yticks(tick_marks, classes)\n",
    "\n",
    "    fmt = '.2f' if normalize else 'd'\n",
    "    thresh = cm.max() / 2.\n",
    "    for i, j in itertools.product(range(cm.shape[0]), range(cm.shape[1])):\n",
    "        plt.text(j, i, format(cm[i, j], fmt),\n",
    "                 horizontalalignment=\"center\",\n",
    "                 color=\"white\" if cm[i, j] > thresh else \"black\")\n",
    "\n",
    "    plt.tight_layout()\n",
    "    plt.ylabel('True label')\n",
    "    plt.xlabel('Predicted label')\n",
    "\n",
    "    \n",
    "    \n",
    "# Compute confusion matrix\n",
    "cnf_matrix = confusion_matrix(y_test, yhat1, labels=[1,0])\n",
    "np.set_printoptions(precision=2)\n",
    "\n",
    "\n",
    "# Plot non-normalized confusion matrix\n",
    "plt.figure()\n",
    "plot_confusion_matrix(cnf_matrix, classes=['1','0'],normalize= False,  title='Confusion matrix')"
   ]
  },
  {
   "cell_type": "code",
   "execution_count": 62,
   "metadata": {},
   "outputs": [
    {
     "data": {
      "text/plain": [
       "RandomForestClassifier(bootstrap=True, ccp_alpha=0.0, class_weight=None,\n",
       "                       criterion='gini', max_depth=None, max_features='auto',\n",
       "                       max_leaf_nodes=None, max_samples=None,\n",
       "                       min_impurity_decrease=0.0, min_impurity_split=None,\n",
       "                       min_samples_leaf=1, min_samples_split=2,\n",
       "                       min_weight_fraction_leaf=0.0, n_estimators=300,\n",
       "                       n_jobs=None, oob_score=False, random_state=None,\n",
       "                       verbose=0, warm_start=False)"
      ]
     },
     "execution_count": 62,
     "metadata": {},
     "output_type": "execute_result"
    }
   ],
   "source": [
    "# retrain random forest model using all the data\n",
    "\n",
    "clf.fit(X,y)\n"
   ]
  },
  {
   "cell_type": "code",
   "execution_count": 63,
   "metadata": {},
   "outputs": [
    {
     "data": {
      "text/plain": [
       "array([0, 0, 0, ..., 0, 0, 0])"
      ]
     },
     "execution_count": 63,
     "metadata": {},
     "output_type": "execute_result"
    }
   ],
   "source": [
    "yhat2=clf.predict(X)\n",
    "yhat2"
   ]
  },
  {
   "cell_type": "code",
   "execution_count": 64,
   "metadata": {},
   "outputs": [
    {
     "name": "stdout",
     "output_type": "stream",
     "text": [
      "Accuracy on training data: 1.0\n"
     ]
    }
   ],
   "source": [
    "print(\"Accuracy on training data:\",metrics.accuracy_score(y, yhat2))"
   ]
  },
  {
   "cell_type": "code",
   "execution_count": 65,
   "metadata": {},
   "outputs": [],
   "source": [
    "# use the model to predict values for delay_df"
   ]
  },
  {
   "cell_type": "code",
   "execution_count": 66,
   "metadata": {},
   "outputs": [],
   "source": [
    "X_delay=np.asarray(df_delay1)"
   ]
  },
  {
   "cell_type": "code",
   "execution_count": 68,
   "metadata": {},
   "outputs": [
    {
     "data": {
      "text/plain": [
       "array([1, 0, 1, ..., 1, 0, 1])"
      ]
     },
     "execution_count": 68,
     "metadata": {},
     "output_type": "execute_result"
    }
   ],
   "source": [
    "yhat_delay=clf.predict(X_delay)\n",
    "yhat_delay"
   ]
  },
  {
   "cell_type": "code",
   "execution_count": 69,
   "metadata": {},
   "outputs": [
    {
     "data": {
      "text/plain": [
       "9922"
      ]
     },
     "execution_count": 69,
     "metadata": {},
     "output_type": "execute_result"
    }
   ],
   "source": [
    "len(yhat_delay)"
   ]
  },
  {
   "cell_type": "code",
   "execution_count": 70,
   "metadata": {},
   "outputs": [
    {
     "name": "stdout",
     "output_type": "stream",
     "text": [
      "4763\n"
     ]
    }
   ],
   "source": [
    "i=0\n",
    "\n",
    "for a in yhat_delay:\n",
    "    if a==1:\n",
    "        i+=1\n",
    "print(i)"
   ]
  },
  {
   "cell_type": "code",
   "execution_count": 71,
   "metadata": {},
   "outputs": [
    {
     "data": {
      "text/plain": [
       "0       5244\n",
       "1       5245\n",
       "2       5246\n",
       "3       5247\n",
       "4       5248\n",
       "        ... \n",
       "9917    8901\n",
       "9918    8902\n",
       "9919    8276\n",
       "9920    8277\n",
       "9921    8279\n",
       "Name: id, Length: 9922, dtype: int64"
      ]
     },
     "execution_count": 71,
     "metadata": {},
     "output_type": "execute_result"
    }
   ],
   "source": [
    "df_delay_id"
   ]
  },
  {
   "cell_type": "code",
   "execution_count": 81,
   "metadata": {},
   "outputs": [
    {
     "data": {
      "text/html": [
       "<div>\n",
       "<style scoped>\n",
       "    .dataframe tbody tr th:only-of-type {\n",
       "        vertical-align: middle;\n",
       "    }\n",
       "\n",
       "    .dataframe tbody tr th {\n",
       "        vertical-align: top;\n",
       "    }\n",
       "\n",
       "    .dataframe thead th {\n",
       "        text-align: right;\n",
       "    }\n",
       "</style>\n",
       "<table border=\"1\" class=\"dataframe\">\n",
       "  <thead>\n",
       "    <tr style=\"text-align: right;\">\n",
       "      <th></th>\n",
       "      <th>id</th>\n",
       "      <th>gb</th>\n",
       "    </tr>\n",
       "  </thead>\n",
       "  <tbody>\n",
       "    <tr>\n",
       "      <th>0</th>\n",
       "      <td>5244</td>\n",
       "      <td>1</td>\n",
       "    </tr>\n",
       "    <tr>\n",
       "      <th>1</th>\n",
       "      <td>5245</td>\n",
       "      <td>0</td>\n",
       "    </tr>\n",
       "    <tr>\n",
       "      <th>2</th>\n",
       "      <td>5246</td>\n",
       "      <td>1</td>\n",
       "    </tr>\n",
       "    <tr>\n",
       "      <th>3</th>\n",
       "      <td>5247</td>\n",
       "      <td>0</td>\n",
       "    </tr>\n",
       "    <tr>\n",
       "      <th>4</th>\n",
       "      <td>5248</td>\n",
       "      <td>1</td>\n",
       "    </tr>\n",
       "    <tr>\n",
       "      <th>...</th>\n",
       "      <td>...</td>\n",
       "      <td>...</td>\n",
       "    </tr>\n",
       "    <tr>\n",
       "      <th>9917</th>\n",
       "      <td>8901</td>\n",
       "      <td>1</td>\n",
       "    </tr>\n",
       "    <tr>\n",
       "      <th>9918</th>\n",
       "      <td>8902</td>\n",
       "      <td>1</td>\n",
       "    </tr>\n",
       "    <tr>\n",
       "      <th>9919</th>\n",
       "      <td>8276</td>\n",
       "      <td>1</td>\n",
       "    </tr>\n",
       "    <tr>\n",
       "      <th>9920</th>\n",
       "      <td>8277</td>\n",
       "      <td>0</td>\n",
       "    </tr>\n",
       "    <tr>\n",
       "      <th>9921</th>\n",
       "      <td>8279</td>\n",
       "      <td>1</td>\n",
       "    </tr>\n",
       "  </tbody>\n",
       "</table>\n",
       "<p>9922 rows × 2 columns</p>\n",
       "</div>"
      ],
      "text/plain": [
       "        id  gb\n",
       "0     5244   1\n",
       "1     5245   0\n",
       "2     5246   1\n",
       "3     5247   0\n",
       "4     5248   1\n",
       "...    ...  ..\n",
       "9917  8901   1\n",
       "9918  8902   1\n",
       "9919  8276   1\n",
       "9920  8277   0\n",
       "9921  8279   1\n",
       "\n",
       "[9922 rows x 2 columns]"
      ]
     },
     "execution_count": 81,
     "metadata": {},
     "output_type": "execute_result"
    }
   ],
   "source": [
    "df_result = pd.DataFrame({\"id\":df_delay_id,\"gb\":yhat_delay})\n",
    "df_result\n"
   ]
  },
  {
   "cell_type": "code",
   "execution_count": 86,
   "metadata": {},
   "outputs": [],
   "source": [
    "# save results to file\n",
    "df.to_csv('result.csv',index=True)"
   ]
  },
  {
   "cell_type": "code",
   "execution_count": null,
   "metadata": {},
   "outputs": [],
   "source": []
  }
 ],
 "metadata": {
  "kernelspec": {
   "display_name": "Python 3",
   "language": "python",
   "name": "python3"
  },
  "language_info": {
   "codemirror_mode": {
    "name": "ipython",
    "version": 3
   },
   "file_extension": ".py",
   "mimetype": "text/x-python",
   "name": "python",
   "nbconvert_exporter": "python",
   "pygments_lexer": "ipython3",
   "version": "3.7.6"
  }
 },
 "nbformat": 4,
 "nbformat_minor": 4
}
